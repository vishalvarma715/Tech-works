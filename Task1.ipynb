{
  "nbformat": 4,
  "nbformat_minor": 0,
  "metadata": {
    "colab": {
      "provenance": []
    },
    "kernelspec": {
      "name": "python3",
      "display_name": "Python 3"
    },
    "language_info": {
      "name": "python"
    }
  },
  "cells": [
    {
      "cell_type": "code",
      "execution_count": 1,
      "metadata": {
        "colab": {
          "base_uri": "https://localhost:8080/",
          "height": 73
        },
        "id": "ojl8vGnfe_H_",
        "outputId": "91f1ca31-777a-4bbb-fca2-7d4f8a2de073"
      },
      "outputs": [
        {
          "output_type": "display_data",
          "data": {
            "text/plain": [
              "<IPython.core.display.HTML object>"
            ],
            "text/html": [
              "\n",
              "     <input type=\"file\" id=\"files-bdbe78d4-b16a-4204-a717-20a6d9e1a0d8\" name=\"files[]\" multiple disabled\n",
              "        style=\"border:none\" />\n",
              "     <output id=\"result-bdbe78d4-b16a-4204-a717-20a6d9e1a0d8\">\n",
              "      Upload widget is only available when the cell has been executed in the\n",
              "      current browser session. Please rerun this cell to enable.\n",
              "      </output>\n",
              "      <script>// Copyright 2017 Google LLC\n",
              "//\n",
              "// Licensed under the Apache License, Version 2.0 (the \"License\");\n",
              "// you may not use this file except in compliance with the License.\n",
              "// You may obtain a copy of the License at\n",
              "//\n",
              "//      http://www.apache.org/licenses/LICENSE-2.0\n",
              "//\n",
              "// Unless required by applicable law or agreed to in writing, software\n",
              "// distributed under the License is distributed on an \"AS IS\" BASIS,\n",
              "// WITHOUT WARRANTIES OR CONDITIONS OF ANY KIND, either express or implied.\n",
              "// See the License for the specific language governing permissions and\n",
              "// limitations under the License.\n",
              "\n",
              "/**\n",
              " * @fileoverview Helpers for google.colab Python module.\n",
              " */\n",
              "(function(scope) {\n",
              "function span(text, styleAttributes = {}) {\n",
              "  const element = document.createElement('span');\n",
              "  element.textContent = text;\n",
              "  for (const key of Object.keys(styleAttributes)) {\n",
              "    element.style[key] = styleAttributes[key];\n",
              "  }\n",
              "  return element;\n",
              "}\n",
              "\n",
              "// Max number of bytes which will be uploaded at a time.\n",
              "const MAX_PAYLOAD_SIZE = 100 * 1024;\n",
              "\n",
              "function _uploadFiles(inputId, outputId) {\n",
              "  const steps = uploadFilesStep(inputId, outputId);\n",
              "  const outputElement = document.getElementById(outputId);\n",
              "  // Cache steps on the outputElement to make it available for the next call\n",
              "  // to uploadFilesContinue from Python.\n",
              "  outputElement.steps = steps;\n",
              "\n",
              "  return _uploadFilesContinue(outputId);\n",
              "}\n",
              "\n",
              "// This is roughly an async generator (not supported in the browser yet),\n",
              "// where there are multiple asynchronous steps and the Python side is going\n",
              "// to poll for completion of each step.\n",
              "// This uses a Promise to block the python side on completion of each step,\n",
              "// then passes the result of the previous step as the input to the next step.\n",
              "function _uploadFilesContinue(outputId) {\n",
              "  const outputElement = document.getElementById(outputId);\n",
              "  const steps = outputElement.steps;\n",
              "\n",
              "  const next = steps.next(outputElement.lastPromiseValue);\n",
              "  return Promise.resolve(next.value.promise).then((value) => {\n",
              "    // Cache the last promise value to make it available to the next\n",
              "    // step of the generator.\n",
              "    outputElement.lastPromiseValue = value;\n",
              "    return next.value.response;\n",
              "  });\n",
              "}\n",
              "\n",
              "/**\n",
              " * Generator function which is called between each async step of the upload\n",
              " * process.\n",
              " * @param {string} inputId Element ID of the input file picker element.\n",
              " * @param {string} outputId Element ID of the output display.\n",
              " * @return {!Iterable<!Object>} Iterable of next steps.\n",
              " */\n",
              "function* uploadFilesStep(inputId, outputId) {\n",
              "  const inputElement = document.getElementById(inputId);\n",
              "  inputElement.disabled = false;\n",
              "\n",
              "  const outputElement = document.getElementById(outputId);\n",
              "  outputElement.innerHTML = '';\n",
              "\n",
              "  const pickedPromise = new Promise((resolve) => {\n",
              "    inputElement.addEventListener('change', (e) => {\n",
              "      resolve(e.target.files);\n",
              "    });\n",
              "  });\n",
              "\n",
              "  const cancel = document.createElement('button');\n",
              "  inputElement.parentElement.appendChild(cancel);\n",
              "  cancel.textContent = 'Cancel upload';\n",
              "  const cancelPromise = new Promise((resolve) => {\n",
              "    cancel.onclick = () => {\n",
              "      resolve(null);\n",
              "    };\n",
              "  });\n",
              "\n",
              "  // Wait for the user to pick the files.\n",
              "  const files = yield {\n",
              "    promise: Promise.race([pickedPromise, cancelPromise]),\n",
              "    response: {\n",
              "      action: 'starting',\n",
              "    }\n",
              "  };\n",
              "\n",
              "  cancel.remove();\n",
              "\n",
              "  // Disable the input element since further picks are not allowed.\n",
              "  inputElement.disabled = true;\n",
              "\n",
              "  if (!files) {\n",
              "    return {\n",
              "      response: {\n",
              "        action: 'complete',\n",
              "      }\n",
              "    };\n",
              "  }\n",
              "\n",
              "  for (const file of files) {\n",
              "    const li = document.createElement('li');\n",
              "    li.append(span(file.name, {fontWeight: 'bold'}));\n",
              "    li.append(span(\n",
              "        `(${file.type || 'n/a'}) - ${file.size} bytes, ` +\n",
              "        `last modified: ${\n",
              "            file.lastModifiedDate ? file.lastModifiedDate.toLocaleDateString() :\n",
              "                                    'n/a'} - `));\n",
              "    const percent = span('0% done');\n",
              "    li.appendChild(percent);\n",
              "\n",
              "    outputElement.appendChild(li);\n",
              "\n",
              "    const fileDataPromise = new Promise((resolve) => {\n",
              "      const reader = new FileReader();\n",
              "      reader.onload = (e) => {\n",
              "        resolve(e.target.result);\n",
              "      };\n",
              "      reader.readAsArrayBuffer(file);\n",
              "    });\n",
              "    // Wait for the data to be ready.\n",
              "    let fileData = yield {\n",
              "      promise: fileDataPromise,\n",
              "      response: {\n",
              "        action: 'continue',\n",
              "      }\n",
              "    };\n",
              "\n",
              "    // Use a chunked sending to avoid message size limits. See b/62115660.\n",
              "    let position = 0;\n",
              "    do {\n",
              "      const length = Math.min(fileData.byteLength - position, MAX_PAYLOAD_SIZE);\n",
              "      const chunk = new Uint8Array(fileData, position, length);\n",
              "      position += length;\n",
              "\n",
              "      const base64 = btoa(String.fromCharCode.apply(null, chunk));\n",
              "      yield {\n",
              "        response: {\n",
              "          action: 'append',\n",
              "          file: file.name,\n",
              "          data: base64,\n",
              "        },\n",
              "      };\n",
              "\n",
              "      let percentDone = fileData.byteLength === 0 ?\n",
              "          100 :\n",
              "          Math.round((position / fileData.byteLength) * 100);\n",
              "      percent.textContent = `${percentDone}% done`;\n",
              "\n",
              "    } while (position < fileData.byteLength);\n",
              "  }\n",
              "\n",
              "  // All done.\n",
              "  yield {\n",
              "    response: {\n",
              "      action: 'complete',\n",
              "    }\n",
              "  };\n",
              "}\n",
              "\n",
              "scope.google = scope.google || {};\n",
              "scope.google.colab = scope.google.colab || {};\n",
              "scope.google.colab._files = {\n",
              "  _uploadFiles,\n",
              "  _uploadFilesContinue,\n",
              "};\n",
              "})(self);\n",
              "</script> "
            ]
          },
          "metadata": {}
        },
        {
          "output_type": "stream",
          "name": "stdout",
          "text": [
            "Saving Titanic-Dataset.csv to Titanic-Dataset.csv\n"
          ]
        }
      ],
      "source": [
        "from google.colab import files\n",
        "uploaded = files.upload()\n"
      ]
    },
    {
      "cell_type": "code",
      "source": [
        "!pip install pandas\n",
        "import pandas as pd\n",
        "df = pd.read_csv('Titanic-Dataset.csv')"
      ],
      "metadata": {
        "colab": {
          "base_uri": "https://localhost:8080/"
        },
        "id": "3piQxASlfm4n",
        "outputId": "2acfa040-d49b-4726-cbae-a8d36a146246"
      },
      "execution_count": 4,
      "outputs": [
        {
          "output_type": "stream",
          "name": "stdout",
          "text": [
            "Requirement already satisfied: pandas in /usr/local/lib/python3.11/dist-packages (2.2.2)\n",
            "Requirement already satisfied: numpy>=1.23.2 in /usr/local/lib/python3.11/dist-packages (from pandas) (2.0.2)\n",
            "Requirement already satisfied: python-dateutil>=2.8.2 in /usr/local/lib/python3.11/dist-packages (from pandas) (2.9.0.post0)\n",
            "Requirement already satisfied: pytz>=2020.1 in /usr/local/lib/python3.11/dist-packages (from pandas) (2025.2)\n",
            "Requirement already satisfied: tzdata>=2022.7 in /usr/local/lib/python3.11/dist-packages (from pandas) (2025.2)\n",
            "Requirement already satisfied: six>=1.5 in /usr/local/lib/python3.11/dist-packages (from python-dateutil>=2.8.2->pandas) (1.17.0)\n"
          ]
        }
      ]
    },
    {
      "cell_type": "code",
      "source": [
        "df = pd.read_csv('Titanic-Dataset.csv')\n"
      ],
      "metadata": {
        "id": "7OgnITUlfFRN"
      },
      "execution_count": 5,
      "outputs": []
    },
    {
      "cell_type": "code",
      "source": [
        "# Import the pandas library\n",
        "import pandas as pd\n",
        "\n",
        "# Step 1: Load your dataset (replace 'your_file.csv' with your actual filename)\n",
        "df = pd.read_csv('Titanic-Dataset.csv')"
      ],
      "metadata": {
        "id": "XKq9nn9gfUID"
      },
      "execution_count": 9,
      "outputs": []
    },
    {
      "cell_type": "code",
      "source": [
        "# Step 2: Display first 5 rows to see the data\n",
        "print(\"Preview of dataset:\")\n",
        "print(df.head())"
      ],
      "metadata": {
        "colab": {
          "base_uri": "https://localhost:8080/"
        },
        "id": "jaPoZxTffx4R",
        "outputId": "f5975be3-c7e7-4245-bfb6-50a9991c9229"
      },
      "execution_count": 10,
      "outputs": [
        {
          "output_type": "stream",
          "name": "stdout",
          "text": [
            "Preview of dataset:\n",
            "   PassengerId  Survived  Pclass  \\\n",
            "0            1         0       3   \n",
            "1            2         1       1   \n",
            "2            3         1       3   \n",
            "3            4         1       1   \n",
            "4            5         0       3   \n",
            "\n",
            "                                                Name     Sex   Age  SibSp  \\\n",
            "0                            Braund, Mr. Owen Harris    male  22.0      1   \n",
            "1  Cumings, Mrs. John Bradley (Florence Briggs Th...  female  38.0      1   \n",
            "2                             Heikkinen, Miss. Laina  female  26.0      0   \n",
            "3       Futrelle, Mrs. Jacques Heath (Lily May Peel)  female  35.0      1   \n",
            "4                           Allen, Mr. William Henry    male  35.0      0   \n",
            "\n",
            "   Parch            Ticket     Fare Cabin Embarked  \n",
            "0      0         A/5 21171   7.2500   NaN        S  \n",
            "1      0          PC 17599  71.2833   C85        C  \n",
            "2      0  STON/O2. 3101282   7.9250   NaN        S  \n",
            "3      0            113803  53.1000  C123        S  \n",
            "4      0            373450   8.0500   NaN        S  \n"
          ]
        }
      ]
    },
    {
      "cell_type": "code",
      "source": [
        "# Step 3: Get basic information like column names, data types, non-null counts\n",
        "print(\"\\nDataset Info:\")\n",
        "df.info()"
      ],
      "metadata": {
        "colab": {
          "base_uri": "https://localhost:8080/"
        },
        "id": "9ImSwlQAh2CE",
        "outputId": "026fcabc-5e99-4cfe-fc12-28a0b9cd49cb"
      },
      "execution_count": 11,
      "outputs": [
        {
          "output_type": "stream",
          "name": "stdout",
          "text": [
            "\n",
            "Dataset Info:\n",
            "<class 'pandas.core.frame.DataFrame'>\n",
            "RangeIndex: 891 entries, 0 to 890\n",
            "Data columns (total 12 columns):\n",
            " #   Column       Non-Null Count  Dtype  \n",
            "---  ------       --------------  -----  \n",
            " 0   PassengerId  891 non-null    int64  \n",
            " 1   Survived     891 non-null    int64  \n",
            " 2   Pclass       891 non-null    int64  \n",
            " 3   Name         891 non-null    object \n",
            " 4   Sex          891 non-null    object \n",
            " 5   Age          714 non-null    float64\n",
            " 6   SibSp        891 non-null    int64  \n",
            " 7   Parch        891 non-null    int64  \n",
            " 8   Ticket       891 non-null    object \n",
            " 9   Fare         891 non-null    float64\n",
            " 10  Cabin        204 non-null    object \n",
            " 11  Embarked     889 non-null    object \n",
            "dtypes: float64(2), int64(5), object(5)\n",
            "memory usage: 83.7+ KB\n"
          ]
        }
      ]
    },
    {
      "cell_type": "code",
      "source": [
        "# Step 4: Get number of rows and columns\n",
        "print(f\"\\nDataset Shape: {df.shape[0]} rows and {df.shape[1]} columns\")"
      ],
      "metadata": {
        "colab": {
          "base_uri": "https://localhost:8080/"
        },
        "id": "ANrGK-C6h80W",
        "outputId": "f841f256-8909-408a-da49-128f9548ea24"
      },
      "execution_count": 12,
      "outputs": [
        {
          "output_type": "stream",
          "name": "stdout",
          "text": [
            "\n",
            "Dataset Shape: 891 rows and 12 columns\n"
          ]
        }
      ]
    },
    {
      "cell_type": "code",
      "source": [
        "# Step 5: Check for missing/null values\n",
        "print(\"\\nMissing values in each column:\")\n",
        "print(df.isnull().sum())"
      ],
      "metadata": {
        "colab": {
          "base_uri": "https://localhost:8080/"
        },
        "id": "O1mQKGgriFHX",
        "outputId": "1ac761dd-6491-4e1f-c6b6-376a50af9e2d"
      },
      "execution_count": 13,
      "outputs": [
        {
          "output_type": "stream",
          "name": "stdout",
          "text": [
            "\n",
            "Missing values in each column:\n",
            "PassengerId      0\n",
            "Survived         0\n",
            "Pclass           0\n",
            "Name             0\n",
            "Sex              0\n",
            "Age            177\n",
            "SibSp            0\n",
            "Parch            0\n",
            "Ticket           0\n",
            "Fare             0\n",
            "Cabin          687\n",
            "Embarked         2\n",
            "dtype: int64\n"
          ]
        }
      ]
    },
    {
      "cell_type": "code",
      "source": [
        "# Step 6: Summary statistics (optional)\n",
        "print(\"\\nSummary Statistics:\")\n",
        "print(df.describe())"
      ],
      "metadata": {
        "colab": {
          "base_uri": "https://localhost:8080/"
        },
        "id": "L2X4myxviMVF",
        "outputId": "55825cb2-0bb4-4626-c058-a908c72cfb8d"
      },
      "execution_count": 14,
      "outputs": [
        {
          "output_type": "stream",
          "name": "stdout",
          "text": [
            "\n",
            "Summary Statistics:\n",
            "       PassengerId    Survived      Pclass         Age       SibSp  \\\n",
            "count   891.000000  891.000000  891.000000  714.000000  891.000000   \n",
            "mean    446.000000    0.383838    2.308642   29.699118    0.523008   \n",
            "std     257.353842    0.486592    0.836071   14.526497    1.102743   \n",
            "min       1.000000    0.000000    1.000000    0.420000    0.000000   \n",
            "25%     223.500000    0.000000    2.000000   20.125000    0.000000   \n",
            "50%     446.000000    0.000000    3.000000   28.000000    0.000000   \n",
            "75%     668.500000    1.000000    3.000000   38.000000    1.000000   \n",
            "max     891.000000    1.000000    3.000000   80.000000    8.000000   \n",
            "\n",
            "            Parch        Fare  \n",
            "count  891.000000  891.000000  \n",
            "mean     0.381594   32.204208  \n",
            "std      0.806057   49.693429  \n",
            "min      0.000000    0.000000  \n",
            "25%      0.000000    7.910400  \n",
            "50%      0.000000   14.454200  \n",
            "75%      0.000000   31.000000  \n",
            "max      6.000000  512.329200  \n"
          ]
        }
      ]
    },
    {
      "cell_type": "code",
      "source": [
        "# Import the pandas library\n",
        "import pandas as pd\n",
        "\n",
        "# Load the dataset\n",
        "df = pd.read_csv('Titanic-Dataset.csv')\n",
        "\n",
        "# Handle missing values in the 'Age' column\n",
        "\n",
        "# Option 1: Impute with the mean of the 'Age' column\n",
        "# df['Age'].fillna(df['Age'].mean(), inplace=True)\n",
        "# print(\"Missing values in 'Age' after mean imputation:\", df['Age'].isnull().sum())\n",
        "\n",
        "# Option 2: Impute with the median of the 'Age' column (often more robust to outliers)\n",
        "df['Age'].fillna(df['Age'].median(), inplace=True)\n",
        "print(\"Missing values in 'Age' after median imputation:\", df['Age'].isnull().sum())\n",
        "\n",
        "# Handle missing values in the 'Embarked' column\n",
        "# 'Embarked' is a categorical column, so we'll use the mode (most frequent value)\n",
        "most_frequent_embarked = df['Embarked'].mode()[0] # mode() returns a Series, so we take the first element\n",
        "df['Embarked'].fillna(most_frequent_embarked, inplace=True)\n",
        "print(\"Missing values in 'Embarked' after mode imputation:\", df['Embarked'].isnull().sum())\n",
        "\n",
        "# Handle missing values in the 'Cabin' column\n",
        "# 'Cabin' has a large number of missing values.\n",
        "# Option 1: Fill missing values with a placeholder like 'Unknown'\n",
        "df['Cabin'].fillna('Unknown', inplace=True)\n",
        "print(\"Missing values in 'Cabin' after filling with 'Unknown':\", df['Cabin'].isnull().sum())\n",
        "\n",
        "# Option 2 (Alternative): Drop the 'Cabin' column if too many missing values\n",
        "# df.drop('Cabin', axis=1, inplace=True)\n",
        "# print(\"Cabin column dropped due to many missing values.\")\n",
        "\n",
        "# Verify that all specified missing values have been handled\n",
        "print(\"\\nMissing values in each column after imputation:\")\n",
        "print(df.isnull().sum())\n",
        "\n",
        "# Display info again to see non-null counts updated\n",
        "print(\"\\nDataset Info after imputation:\")\n",
        "df.info()"
      ],
      "metadata": {
        "colab": {
          "base_uri": "https://localhost:8080/"
        },
        "id": "xRhJVqUMjr0c",
        "outputId": "1a61214d-9b33-499f-c80a-84e179274eb5"
      },
      "execution_count": 15,
      "outputs": [
        {
          "output_type": "stream",
          "name": "stdout",
          "text": [
            "Missing values in 'Age' after median imputation: 0\n",
            "Missing values in 'Embarked' after mode imputation: 0\n",
            "Missing values in 'Cabin' after filling with 'Unknown': 0\n",
            "\n",
            "Missing values in each column after imputation:\n",
            "PassengerId    0\n",
            "Survived       0\n",
            "Pclass         0\n",
            "Name           0\n",
            "Sex            0\n",
            "Age            0\n",
            "SibSp          0\n",
            "Parch          0\n",
            "Ticket         0\n",
            "Fare           0\n",
            "Cabin          0\n",
            "Embarked       0\n",
            "dtype: int64\n",
            "\n",
            "Dataset Info after imputation:\n",
            "<class 'pandas.core.frame.DataFrame'>\n",
            "RangeIndex: 891 entries, 0 to 890\n",
            "Data columns (total 12 columns):\n",
            " #   Column       Non-Null Count  Dtype  \n",
            "---  ------       --------------  -----  \n",
            " 0   PassengerId  891 non-null    int64  \n",
            " 1   Survived     891 non-null    int64  \n",
            " 2   Pclass       891 non-null    int64  \n",
            " 3   Name         891 non-null    object \n",
            " 4   Sex          891 non-null    object \n",
            " 5   Age          891 non-null    float64\n",
            " 6   SibSp        891 non-null    int64  \n",
            " 7   Parch        891 non-null    int64  \n",
            " 8   Ticket       891 non-null    object \n",
            " 9   Fare         891 non-null    float64\n",
            " 10  Cabin        891 non-null    object \n",
            " 11  Embarked     891 non-null    object \n",
            "dtypes: float64(2), int64(5), object(5)\n",
            "memory usage: 83.7+ KB\n"
          ]
        },
        {
          "output_type": "stream",
          "name": "stderr",
          "text": [
            "/tmp/ipython-input-15-3378454057.py:14: FutureWarning: A value is trying to be set on a copy of a DataFrame or Series through chained assignment using an inplace method.\n",
            "The behavior will change in pandas 3.0. This inplace method will never work because the intermediate object on which we are setting values always behaves as a copy.\n",
            "\n",
            "For example, when doing 'df[col].method(value, inplace=True)', try using 'df.method({col: value}, inplace=True)' or df[col] = df[col].method(value) instead, to perform the operation inplace on the original object.\n",
            "\n",
            "\n",
            "  df['Age'].fillna(df['Age'].median(), inplace=True)\n",
            "/tmp/ipython-input-15-3378454057.py:20: FutureWarning: A value is trying to be set on a copy of a DataFrame or Series through chained assignment using an inplace method.\n",
            "The behavior will change in pandas 3.0. This inplace method will never work because the intermediate object on which we are setting values always behaves as a copy.\n",
            "\n",
            "For example, when doing 'df[col].method(value, inplace=True)', try using 'df.method({col: value}, inplace=True)' or df[col] = df[col].method(value) instead, to perform the operation inplace on the original object.\n",
            "\n",
            "\n",
            "  df['Embarked'].fillna(most_frequent_embarked, inplace=True)\n",
            "/tmp/ipython-input-15-3378454057.py:26: FutureWarning: A value is trying to be set on a copy of a DataFrame or Series through chained assignment using an inplace method.\n",
            "The behavior will change in pandas 3.0. This inplace method will never work because the intermediate object on which we are setting values always behaves as a copy.\n",
            "\n",
            "For example, when doing 'df[col].method(value, inplace=True)', try using 'df.method({col: value}, inplace=True)' or df[col] = df[col].method(value) instead, to perform the operation inplace on the original object.\n",
            "\n",
            "\n",
            "  df['Cabin'].fillna('Unknown', inplace=True)\n"
          ]
        }
      ]
    },
    {
      "cell_type": "code",
      "source": [
        "# Import the pandas library\n",
        "import pandas as pd\n",
        "\n",
        "# Load the dataset\n",
        "df = pd.read_csv('Titanic-Dataset.csv')\n",
        "\n",
        "# --- Handle missing values (as done in the previous step) ---\n",
        "df['Age'].fillna(df['Age'].median(), inplace=True)\n",
        "most_frequent_embarked = df['Embarked'].mode()[0]\n",
        "df['Embarked'].fillna(most_frequent_embarked, inplace=True)\n",
        "df['Cabin'].fillna('Unknown', inplace=True)\n",
        "# -----------------------------------------------------------\n",
        "\n",
        "# Step 7: Convert categorical features to numerical using one-hot encoding\n",
        "\n",
        "# Select the columns to encode\n",
        "categorical_cols_to_encode = ['Sex', 'Embarked']\n",
        "\n",
        "# Apply one-hot encoding\n",
        "df = pd.get_dummies(df, columns=categorical_cols_to_encode, drop_first=True)\n",
        "# drop_first=True is used to avoid multicollinearity (dummy variable trap)\n",
        "\n",
        "# Step 8: Drop columns that are not useful for modeling\n",
        "columns_to_drop = ['Name', 'Ticket', 'Cabin', 'PassengerId'] # PassengerId is an identifier, not a feature\n",
        "\n",
        "df = df.drop(columns=columns_to_drop, axis=1)\n",
        "\n",
        "# Display the first few rows of the modified DataFrame\n",
        "print(\"\\nDataFrame after encoding and dropping columns:\")\n",
        "print(df.head())\n",
        "\n",
        "# Display the new data types and columns\n",
        "print(\"\\nDataset Info after encoding and dropping columns:\")\n",
        "df.info()"
      ],
      "metadata": {
        "colab": {
          "base_uri": "https://localhost:8080/"
        },
        "id": "yWjQsJgMkbBl",
        "outputId": "bb1cee6e-0439-4189-9377-eb6626a1851a"
      },
      "execution_count": 16,
      "outputs": [
        {
          "output_type": "stream",
          "name": "stdout",
          "text": [
            "\n",
            "DataFrame after encoding and dropping columns:\n",
            "   Survived  Pclass   Age  SibSp  Parch     Fare  Sex_male  Embarked_Q  \\\n",
            "0         0       3  22.0      1      0   7.2500      True       False   \n",
            "1         1       1  38.0      1      0  71.2833     False       False   \n",
            "2         1       3  26.0      0      0   7.9250     False       False   \n",
            "3         1       1  35.0      1      0  53.1000     False       False   \n",
            "4         0       3  35.0      0      0   8.0500      True       False   \n",
            "\n",
            "   Embarked_S  \n",
            "0        True  \n",
            "1       False  \n",
            "2        True  \n",
            "3        True  \n",
            "4        True  \n",
            "\n",
            "Dataset Info after encoding and dropping columns:\n",
            "<class 'pandas.core.frame.DataFrame'>\n",
            "RangeIndex: 891 entries, 0 to 890\n",
            "Data columns (total 9 columns):\n",
            " #   Column      Non-Null Count  Dtype  \n",
            "---  ------      --------------  -----  \n",
            " 0   Survived    891 non-null    int64  \n",
            " 1   Pclass      891 non-null    int64  \n",
            " 2   Age         891 non-null    float64\n",
            " 3   SibSp       891 non-null    int64  \n",
            " 4   Parch       891 non-null    int64  \n",
            " 5   Fare        891 non-null    float64\n",
            " 6   Sex_male    891 non-null    bool   \n",
            " 7   Embarked_Q  891 non-null    bool   \n",
            " 8   Embarked_S  891 non-null    bool   \n",
            "dtypes: bool(3), float64(2), int64(4)\n",
            "memory usage: 44.5 KB\n"
          ]
        },
        {
          "output_type": "stream",
          "name": "stderr",
          "text": [
            "/tmp/ipython-input-16-3822032181.py:8: FutureWarning: A value is trying to be set on a copy of a DataFrame or Series through chained assignment using an inplace method.\n",
            "The behavior will change in pandas 3.0. This inplace method will never work because the intermediate object on which we are setting values always behaves as a copy.\n",
            "\n",
            "For example, when doing 'df[col].method(value, inplace=True)', try using 'df.method({col: value}, inplace=True)' or df[col] = df[col].method(value) instead, to perform the operation inplace on the original object.\n",
            "\n",
            "\n",
            "  df['Age'].fillna(df['Age'].median(), inplace=True)\n",
            "/tmp/ipython-input-16-3822032181.py:10: FutureWarning: A value is trying to be set on a copy of a DataFrame or Series through chained assignment using an inplace method.\n",
            "The behavior will change in pandas 3.0. This inplace method will never work because the intermediate object on which we are setting values always behaves as a copy.\n",
            "\n",
            "For example, when doing 'df[col].method(value, inplace=True)', try using 'df.method({col: value}, inplace=True)' or df[col] = df[col].method(value) instead, to perform the operation inplace on the original object.\n",
            "\n",
            "\n",
            "  df['Embarked'].fillna(most_frequent_embarked, inplace=True)\n",
            "/tmp/ipython-input-16-3822032181.py:11: FutureWarning: A value is trying to be set on a copy of a DataFrame or Series through chained assignment using an inplace method.\n",
            "The behavior will change in pandas 3.0. This inplace method will never work because the intermediate object on which we are setting values always behaves as a copy.\n",
            "\n",
            "For example, when doing 'df[col].method(value, inplace=True)', try using 'df.method({col: value}, inplace=True)' or df[col] = df[col].method(value) instead, to perform the operation inplace on the original object.\n",
            "\n",
            "\n",
            "  df['Cabin'].fillna('Unknown', inplace=True)\n"
          ]
        }
      ]
    },
    {
      "cell_type": "code",
      "source": [
        "# Import pandas for data manipulation\n",
        "import pandas as pd\n",
        "\n",
        "# Import StandardScaler from scikit-learn\n",
        "from sklearn.preprocessing import StandardScaler\n",
        "\n",
        "# Load the dataset\n",
        "df = pd.read_csv('Titanic-Dataset.csv')\n",
        "\n",
        "# --- Handle missing values ---\n",
        "df['Age'].fillna(df['Age'].median(), inplace=True)\n",
        "most_frequent_embarked = df['Embarked'].mode()[0]\n",
        "df['Embarked'].fillna(most_frequent_embarked, inplace=True)\n",
        "df['Cabin'].fillna('Unknown', inplace=True)\n",
        "# ----------------------------\n",
        "\n",
        "# --- Convert categorical features to numerical ---\n",
        "categorical_cols_to_encode = ['Sex', 'Embarked']\n",
        "df = pd.get_dummies(df, columns=categorical_cols_to_encode, drop_first=True)\n",
        "# -----------------------------------------------\n",
        "\n",
        "# --- Drop columns that are not useful ---\n",
        "columns_to_drop = ['Name', 'Ticket', 'Cabin', 'PassengerId']\n",
        "df = df.drop(columns=columns_to_drop, axis=1)\n",
        "# ----------------------------------------\n",
        "\n",
        "# Step 9: Select numerical features to standardize\n",
        "# Exclude the target variable 'Survived' and binary encoded columns\n",
        "numerical_cols_to_standardize = ['Pclass', 'Age', 'SibSp', 'Parch', 'Fare']\n",
        "\n",
        "# Initialize the StandardScaler\n",
        "scaler = StandardScaler()\n",
        "\n",
        "# Fit the scaler to the numerical features and transform them\n",
        "# Note: fit_transform returns a NumPy array, not a DataFrame\n",
        "df[numerical_cols_to_standardize] = scaler.fit_transform(df[numerical_cols_to_standardize])\n",
        "\n",
        "# Display the first few rows of the modified DataFrame\n",
        "print(\"\\nDataFrame after standardization:\")\n",
        "print(df.head())\n",
        "\n",
        "# Display the summary statistics to see the effect of standardization\n",
        "print(\"\\nSummary Statistics after standardization:\")\n",
        "print(df.describe())\n",
        "\n",
        "# Display info again to confirm data types (should still be float or int)\n",
        "print(\"\\nDataset Info after standardization:\")\n",
        "df.info()"
      ],
      "metadata": {
        "colab": {
          "base_uri": "https://localhost:8080/"
        },
        "id": "3e-dtJRNlRZt",
        "outputId": "9a989b1f-0c8f-44af-a50f-7ff14ee9dcd1"
      },
      "execution_count": 17,
      "outputs": [
        {
          "output_type": "stream",
          "name": "stdout",
          "text": [
            "\n",
            "DataFrame after standardization:\n",
            "   Survived    Pclass       Age     SibSp     Parch      Fare  Sex_male  \\\n",
            "0         0  0.827377 -0.565736  0.432793 -0.473674 -0.502445      True   \n",
            "1         1 -1.566107  0.663861  0.432793 -0.473674  0.786845     False   \n",
            "2         1  0.827377 -0.258337 -0.474545 -0.473674 -0.488854     False   \n",
            "3         1 -1.566107  0.433312  0.432793 -0.473674  0.420730     False   \n",
            "4         0  0.827377  0.433312 -0.474545 -0.473674 -0.486337      True   \n",
            "\n",
            "   Embarked_Q  Embarked_S  \n",
            "0       False        True  \n",
            "1       False       False  \n",
            "2       False        True  \n",
            "3       False        True  \n",
            "4       False        True  \n",
            "\n",
            "Summary Statistics after standardization:\n",
            "         Survived        Pclass           Age         SibSp         Parch  \\\n",
            "count  891.000000  8.910000e+02  8.910000e+02  8.910000e+02  8.910000e+02   \n",
            "mean     0.383838 -8.772133e-17  2.272780e-16  4.386066e-17  5.382900e-17   \n",
            "std      0.486592  1.000562e+00  1.000562e+00  1.000562e+00  1.000562e+00   \n",
            "min      0.000000 -1.566107e+00 -2.224156e+00 -4.745452e-01 -4.736736e-01   \n",
            "25%      0.000000 -3.693648e-01 -5.657365e-01 -4.745452e-01 -4.736736e-01   \n",
            "50%      0.000000  8.273772e-01 -1.046374e-01 -4.745452e-01 -4.736736e-01   \n",
            "75%      1.000000  8.273772e-01  4.333115e-01  4.327934e-01 -4.736736e-01   \n",
            "max      1.000000  8.273772e-01  3.891554e+00  6.784163e+00  6.974147e+00   \n",
            "\n",
            "               Fare  \n",
            "count  8.910000e+02  \n",
            "mean   3.987333e-18  \n",
            "std    1.000562e+00  \n",
            "min   -6.484217e-01  \n",
            "25%   -4.891482e-01  \n",
            "50%   -3.573909e-01  \n",
            "75%   -2.424635e-02  \n",
            "max    9.667167e+00  \n",
            "\n",
            "Dataset Info after standardization:\n",
            "<class 'pandas.core.frame.DataFrame'>\n",
            "RangeIndex: 891 entries, 0 to 890\n",
            "Data columns (total 9 columns):\n",
            " #   Column      Non-Null Count  Dtype  \n",
            "---  ------      --------------  -----  \n",
            " 0   Survived    891 non-null    int64  \n",
            " 1   Pclass      891 non-null    float64\n",
            " 2   Age         891 non-null    float64\n",
            " 3   SibSp       891 non-null    float64\n",
            " 4   Parch       891 non-null    float64\n",
            " 5   Fare        891 non-null    float64\n",
            " 6   Sex_male    891 non-null    bool   \n",
            " 7   Embarked_Q  891 non-null    bool   \n",
            " 8   Embarked_S  891 non-null    bool   \n",
            "dtypes: bool(3), float64(5), int64(1)\n",
            "memory usage: 44.5 KB\n"
          ]
        },
        {
          "output_type": "stream",
          "name": "stderr",
          "text": [
            "/tmp/ipython-input-17-23050187.py:11: FutureWarning: A value is trying to be set on a copy of a DataFrame or Series through chained assignment using an inplace method.\n",
            "The behavior will change in pandas 3.0. This inplace method will never work because the intermediate object on which we are setting values always behaves as a copy.\n",
            "\n",
            "For example, when doing 'df[col].method(value, inplace=True)', try using 'df.method({col: value}, inplace=True)' or df[col] = df[col].method(value) instead, to perform the operation inplace on the original object.\n",
            "\n",
            "\n",
            "  df['Age'].fillna(df['Age'].median(), inplace=True)\n",
            "/tmp/ipython-input-17-23050187.py:13: FutureWarning: A value is trying to be set on a copy of a DataFrame or Series through chained assignment using an inplace method.\n",
            "The behavior will change in pandas 3.0. This inplace method will never work because the intermediate object on which we are setting values always behaves as a copy.\n",
            "\n",
            "For example, when doing 'df[col].method(value, inplace=True)', try using 'df.method({col: value}, inplace=True)' or df[col] = df[col].method(value) instead, to perform the operation inplace on the original object.\n",
            "\n",
            "\n",
            "  df['Embarked'].fillna(most_frequent_embarked, inplace=True)\n",
            "/tmp/ipython-input-17-23050187.py:14: FutureWarning: A value is trying to be set on a copy of a DataFrame or Series through chained assignment using an inplace method.\n",
            "The behavior will change in pandas 3.0. This inplace method will never work because the intermediate object on which we are setting values always behaves as a copy.\n",
            "\n",
            "For example, when doing 'df[col].method(value, inplace=True)', try using 'df.method({col: value}, inplace=True)' or df[col] = df[col].method(value) instead, to perform the operation inplace on the original object.\n",
            "\n",
            "\n",
            "  df['Cabin'].fillna('Unknown', inplace=True)\n"
          ]
        }
      ]
    },
    {
      "cell_type": "code",
      "source": [
        "# Import necessary libraries for visualization\n",
        "import matplotlib.pyplot as plt\n",
        "import seaborn as sns\n",
        "import pandas as pd # Already imported, but good practice to list\n",
        "\n",
        "# Load the dataset and apply previous preprocessing steps\n",
        "df = pd.read_csv('Titanic-Dataset.csv')\n",
        "df['Age'].fillna(df['Age'].median(), inplace=True)\n",
        "most_frequent_embarked = df['Embarked'].mode()[0]\n",
        "df['Embarked'].fillna(most_frequent_embarked, inplace=True)\n",
        "df['Cabin'].fillna('Unknown', inplace=True)\n",
        "categorical_cols_to_encode = ['Sex', 'Embarked']\n",
        "df = pd.get_dummies(df, columns=categorical_cols_to_encode, drop_first=True)\n",
        "columns_to_drop = ['Name', 'Ticket', 'Cabin', 'PassengerId']\n",
        "df = df.drop(columns=columns_to_drop, axis=1)\n",
        "\n",
        "# Identify the numerical features (excluding the target and binary encoded)\n",
        "numerical_cols = ['Pclass', 'Age', 'SibSp', 'Parch', 'Fare'] # Including Pclass for visualization\n",
        "\n",
        "# Step 10: Visualize outliers using boxplots\n",
        "\n",
        "print(\"\\nVisualizing Outliers using Boxplots:\")\n",
        "\n",
        "# Set up the plot size\n",
        "plt.figure(figsize=(15, 10))\n",
        "\n",
        "# Create a boxplot for each numerical column\n",
        "for i, col in enumerate(numerical_cols):\n",
        "    plt.subplot(2, 3, i + 1) # Create a subplot for each boxplot (adjust grid if needed)\n",
        "    sns.boxplot(y=df[col])\n",
        "    plt.title(f'Boxplot of {col}')\n",
        "    plt.ylabel(col)\n",
        "\n",
        "plt.tight_layout() # Adjust layout to prevent overlapping\n",
        "plt.show() # Display the plots\n",
        "\n",
        "# Step 11: Identify and remove outliers (using the IQR method)\n",
        "\n",
        "print(\"\\nIdentifying and removing outliers using IQR method:\")\n",
        "\n",
        "# Create a copy of the DataFrame to avoid modifying the original during removal\n",
        "df_cleaned = df.copy()\n",
        "outlier_indices = []\n",
        "\n",
        "for col in numerical_cols:\n",
        "    Q1 = df_cleaned[col].quantile(0.25)\n",
        "    Q3 = df_cleaned[col].quantile(0.75)\n",
        "    IQR = Q3 - Q1\n",
        "\n",
        "    # Define outlier bounds\n",
        "    lower_bound = Q1 - 1.5 * IQR\n",
        "    upper_bound = Q3 + 1.5 * IQR\n",
        "\n",
        "    # Find indices of outliers in the current column\n",
        "    col_outlier_indices = df_cleaned[(df_cleaned[col] < lower_bound) | (df_cleaned[col] > upper_bound)].index\n",
        "\n",
        "    # Add these indices to the overall list\n",
        "    outlier_indices.extend(col_outlier_indices)\n",
        "\n",
        "# Remove duplicate indices from the list (a row might be an outlier in multiple columns)\n",
        "outlier_indices = list(set(outlier_indices))\n",
        "\n",
        "print(f\"Number of rows before outlier removal: {len(df_cleaned)}\")\n",
        "print(f\"Number of outliers identified: {len(outlier_indices)}\")\n",
        "\n",
        "# Drop the rows with identified outliers\n",
        "df_cleaned = df_cleaned.drop(outlier_indices).reset_index(drop=True)\n",
        "\n",
        "print(f\"Number of rows after outlier removal: {len(df_cleaned)}\")\n",
        "\n",
        "# Display info after outlier removal (optional, to see changes)\n",
        "print(\"\\nDataset Info after outlier removal:\")\n",
        "df_cleaned.info()\n",
        "\n",
        "# Optional: Visualize boxplots again to see the effect of removal\n",
        "# plt.figure(figsize=(15, 10))\n",
        "# for i, col in enumerate(numerical_cols):\n",
        "#     plt.subplot(2, 3, i + 1)\n",
        "#     sns.boxplot(y=df_cleaned[col])\n",
        "#     plt.title(f'Boxplot of {col} (After Outlier Removal)')\n",
        "#     plt.ylabel(col)\n",
        "# plt.tight_layout()\n",
        "# plt.show()"
      ],
      "metadata": {
        "colab": {
          "base_uri": "https://localhost:8080/",
          "height": 1000
        },
        "id": "Gx6q5B10s-is",
        "outputId": "18140c63-504c-4430-f4d9-0c33dec1a1a1"
      },
      "execution_count": 18,
      "outputs": [
        {
          "output_type": "stream",
          "name": "stderr",
          "text": [
            "/tmp/ipython-input-18-2799144554.py:8: FutureWarning: A value is trying to be set on a copy of a DataFrame or Series through chained assignment using an inplace method.\n",
            "The behavior will change in pandas 3.0. This inplace method will never work because the intermediate object on which we are setting values always behaves as a copy.\n",
            "\n",
            "For example, when doing 'df[col].method(value, inplace=True)', try using 'df.method({col: value}, inplace=True)' or df[col] = df[col].method(value) instead, to perform the operation inplace on the original object.\n",
            "\n",
            "\n",
            "  df['Age'].fillna(df['Age'].median(), inplace=True)\n",
            "/tmp/ipython-input-18-2799144554.py:10: FutureWarning: A value is trying to be set on a copy of a DataFrame or Series through chained assignment using an inplace method.\n",
            "The behavior will change in pandas 3.0. This inplace method will never work because the intermediate object on which we are setting values always behaves as a copy.\n",
            "\n",
            "For example, when doing 'df[col].method(value, inplace=True)', try using 'df.method({col: value}, inplace=True)' or df[col] = df[col].method(value) instead, to perform the operation inplace on the original object.\n",
            "\n",
            "\n",
            "  df['Embarked'].fillna(most_frequent_embarked, inplace=True)\n",
            "/tmp/ipython-input-18-2799144554.py:11: FutureWarning: A value is trying to be set on a copy of a DataFrame or Series through chained assignment using an inplace method.\n",
            "The behavior will change in pandas 3.0. This inplace method will never work because the intermediate object on which we are setting values always behaves as a copy.\n",
            "\n",
            "For example, when doing 'df[col].method(value, inplace=True)', try using 'df.method({col: value}, inplace=True)' or df[col] = df[col].method(value) instead, to perform the operation inplace on the original object.\n",
            "\n",
            "\n",
            "  df['Cabin'].fillna('Unknown', inplace=True)\n"
          ]
        },
        {
          "output_type": "stream",
          "name": "stdout",
          "text": [
            "\n",
            "Visualizing Outliers using Boxplots:\n"
          ]
        },
        {
          "output_type": "display_data",
          "data": {
            "text/plain": [
              "<Figure size 1500x1000 with 5 Axes>"
            ],
            "image/png": "[encoded data removed]"
          },
          "metadata": {}
        },
        {
          "output_type": "stream",
          "name": "stdout",
          "text": [
            "\n",
            "Identifying and removing outliers using IQR method:\n",
            "Number of rows before outlier removal: 891\n",
            "Number of outliers identified: 314\n",
            "Number of rows after outlier removal: 577\n",
            "\n",
            "Dataset Info after outlier removal:\n",
            "<class 'pandas.core.frame.DataFrame'>\n",
            "RangeIndex: 577 entries, 0 to 576\n",
            "Data columns (total 9 columns):\n",
            " #   Column      Non-Null Count  Dtype  \n",
            "---  ------      --------------  -----  \n",
            " 0   Survived    577 non-null    int64  \n",
            " 1   Pclass      577 non-null    int64  \n",
            " 2   Age         577 non-null    float64\n",
            " 3   SibSp       577 non-null    int64  \n",
            " 4   Parch       577 non-null    int64  \n",
            " 5   Fare        577 non-null    float64\n",
            " 6   Sex_male    577 non-null    bool   \n",
            " 7   Embarked_Q  577 non-null    bool   \n",
            " 8   Embarked_S  577 non-null    bool   \n",
            "dtypes: bool(3), float64(2), int64(4)\n",
            "memory usage: 28.9 KB\n"
          ]
        }
      ]
    },
    {
      "cell_type": "code",
      "source": [],
      "metadata": {
        "id": "nF00Kpictosi"
      },
      "execution_count": null,
      "outputs": []
    }
  ]
}